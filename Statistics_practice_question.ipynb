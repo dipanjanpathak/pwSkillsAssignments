{
  "cells": [
    {
      "cell_type": "markdown",
      "source": [
        "\n",
        "\n",
        "\n",
        "Question 1: Generate a list of 100 integers between 90 and 130"
      ],
      "metadata": {
        "id": "8ymbksj5wxb4"
      }
    },
    {
      "cell_type": "code",
      "source": [],
      "metadata": {
        "id": "4HQFpFTiwxL0"
      },
      "execution_count": 49,
      "outputs": []
    },
    {
      "cell_type": "code",
      "source": [
        "import random\n",
        "\n",
        "# Generate the list\n",
        "int_list = [random.randint(90, 130) for _ in range(100)]\n"
      ],
      "metadata": {
        "id": "gzTP9OyLwtAx"
      },
      "execution_count": 50,
      "outputs": []
    },
    {
      "cell_type": "markdown",
      "source": [
        "(i) Write a Python function to calculate the mean of a given list of numbers."
      ],
      "metadata": {
        "id": "ZeX_KyUbw5Wm"
      }
    },
    {
      "cell_type": "code",
      "source": [
        "def calculate_mean(numbers):\n",
        "    return sum(numbers) / len(numbers)\n",
        "\n",
        "mean_value = calculate_mean(int_list)\n",
        "print(\"Mean:\", mean_value)\n"
      ],
      "metadata": {
        "id": "37dveglew11y",
        "outputId": "5b5a7192-d293-49c5-953b-243a7a5b3d72",
        "colab": {
          "base_uri": "https://localhost:8080/"
        }
      },
      "execution_count": 51,
      "outputs": [
        {
          "output_type": "stream",
          "name": "stdout",
          "text": [
            "Mean: 111.14\n"
          ]
        }
      ]
    },
    {
      "cell_type": "markdown",
      "source": [
        "(ii) Create a function to find the median of a list of numbers."
      ],
      "metadata": {
        "id": "3evqxB3Sw33p"
      }
    },
    {
      "cell_type": "code",
      "source": [
        "def calculate_median(numbers):\n",
        "    numbers.sort()\n",
        "    n = len(numbers)\n",
        "    mid = n // 2\n",
        "    if n % 2 == 0:\n",
        "        return (numbers[mid - 1] + numbers[mid]) / 2\n",
        "    else:\n",
        "        return numbers[mid]\n",
        "\n",
        "median_value = calculate_median(int_list)\n",
        "print(\"Median:\", median_value)\n"
      ],
      "metadata": {
        "id": "A38IP6mGxI6F",
        "outputId": "8e010919-757b-4996-eb62-02f7d1b8aabd",
        "colab": {
          "base_uri": "https://localhost:8080/"
        }
      },
      "execution_count": 52,
      "outputs": [
        {
          "output_type": "stream",
          "name": "stdout",
          "text": [
            "Median: 113.0\n"
          ]
        }
      ]
    },
    {
      "cell_type": "markdown",
      "source": [
        "(iii) Develop a program to compute the mode of a list of integers."
      ],
      "metadata": {
        "id": "ed3Q8RNxxP2z"
      }
    },
    {
      "cell_type": "code",
      "source": [
        "from collections import Counter\n",
        "\n",
        "def calculate_mode(numbers):\n",
        "    frequency = Counter(numbers)\n",
        "    max_count = max(frequency.values())\n",
        "    mode = [key for key, count in frequency.items() if count == max_count]\n",
        "    return mode\n",
        "\n",
        "mode_value = calculate_mode(int_list)\n",
        "print(\"Mode:\", mode_value)\n"
      ],
      "metadata": {
        "id": "Y7sMRYWMxKX6",
        "outputId": "f7d31b49-f405-4e88-f34c-438142708331",
        "colab": {
          "base_uri": "https://localhost:8080/"
        }
      },
      "execution_count": 53,
      "outputs": [
        {
          "output_type": "stream",
          "name": "stdout",
          "text": [
            "Mode: [90, 122, 127]\n"
          ]
        }
      ]
    },
    {
      "cell_type": "markdown",
      "source": [
        "(iv) Implement a function to calculate the weighted mean of a list of values and their corresponding weights."
      ],
      "metadata": {
        "id": "-J1zToNvxfFL"
      }
    },
    {
      "cell_type": "code",
      "source": [
        "def calculate_weighted_mean(values, weights):\n",
        "    weighted_sum = sum(value * weight for value, weight in zip(values, weights))\n",
        "    total_weight = sum(weights)\n",
        "    return weighted_sum / total_weight\n",
        "\n",
        "\n",
        "values = int_list[:10]\n",
        "weights = [random.randint(1, 10) for _ in range(10)]\n",
        "weighted_mean = calculate_weighted_mean(values, weights)\n",
        "print(\"Weighted Mean:\", weighted_mean)\n"
      ],
      "metadata": {
        "id": "9W21Y48sxOeD",
        "outputId": "307b6f44-414e-4b0e-fa6a-738143a7479b",
        "colab": {
          "base_uri": "https://localhost:8080/"
        }
      },
      "execution_count": 54,
      "outputs": [
        {
          "output_type": "stream",
          "name": "stdout",
          "text": [
            "Weighted Mean: 90.7910447761194\n"
          ]
        }
      ]
    },
    {
      "cell_type": "markdown",
      "source": [
        "(v) Write a Python function to find the geometric mean of a list of positive numbers."
      ],
      "metadata": {
        "id": "1C_TKf2exk-T"
      }
    },
    {
      "cell_type": "code",
      "source": [
        "import math\n",
        "\n",
        "def calculate_geometric_mean(numbers):\n",
        "    product = math.prod(numbers)\n",
        "    n = len(numbers)\n",
        "    return product ** (1/n)\n",
        "\n",
        "geometric_mean = calculate_geometric_mean(int_list)\n",
        "print(\"Geometric Mean:\", geometric_mean)\n"
      ],
      "metadata": {
        "id": "Xc4xwZCkxigD",
        "outputId": "82db38fd-a7d9-4914-f1d2-ad66d96f8c95",
        "colab": {
          "base_uri": "https://localhost:8080/"
        }
      },
      "execution_count": 55,
      "outputs": [
        {
          "output_type": "stream",
          "name": "stdout",
          "text": [
            "Geometric Mean: 110.43485598232243\n"
          ]
        }
      ]
    },
    {
      "cell_type": "markdown",
      "source": [
        "(vi) Create a program to calculate the harmonic mean of a list of values."
      ],
      "metadata": {
        "id": "5Mxgzd92xq00"
      }
    },
    {
      "cell_type": "code",
      "source": [
        "def calculate_harmonic_mean(numbers):\n",
        "    n = len(numbers)\n",
        "    return n / sum(1 / num for num in numbers)\n",
        "\n",
        "harmonic_mean = calculate_harmonic_mean(int_list)\n",
        "print(\"Harmonic Mean:\", harmonic_mean)\n"
      ],
      "metadata": {
        "id": "3rJn3eI7xnfz",
        "outputId": "a5f0bb39-e45a-4961-a942-25d233473c0d",
        "colab": {
          "base_uri": "https://localhost:8080/"
        }
      },
      "execution_count": 56,
      "outputs": [
        {
          "output_type": "stream",
          "name": "stdout",
          "text": [
            "Harmonic Mean: 109.71632117244037\n"
          ]
        }
      ]
    },
    {
      "cell_type": "markdown",
      "source": [
        "(vii) Build a function to determine the midrange of a list of numbers (average of the minimum and maximum)."
      ],
      "metadata": {
        "id": "-n8rh37Nxwol"
      }
    },
    {
      "cell_type": "code",
      "source": [
        "def calculate_midrange(numbers):\n",
        "    return (min(numbers) + max(numbers)) / 2\n",
        "\n",
        "midrange_value = calculate_midrange(int_list)\n",
        "print(\"Midrange:\", midrange_value)\n"
      ],
      "metadata": {
        "id": "866JlSGxxs2E",
        "outputId": "9bab8607-3daf-4674-d03e-95bff6e502ed",
        "colab": {
          "base_uri": "https://localhost:8080/"
        }
      },
      "execution_count": 57,
      "outputs": [
        {
          "output_type": "stream",
          "name": "stdout",
          "text": [
            "Midrange: 110.0\n"
          ]
        }
      ]
    },
    {
      "cell_type": "markdown",
      "source": [
        "(viii) Implement a Python program to find the trimmed mean of a list, excluding a certain percentage of outliers."
      ],
      "metadata": {
        "id": "r1n03Mpax0e3"
      }
    },
    {
      "cell_type": "code",
      "source": [
        "def calculate_trimmed_mean(numbers, percentage):\n",
        "    numbers.sort()\n",
        "    n = len(numbers)\n",
        "    trim_count = int(n * percentage / 100)\n",
        "    trimmed_numbers = numbers[trim_count:-trim_count]\n",
        "    return sum(trimmed_numbers) / len(trimmed_numbers)\n",
        "\n",
        "trimmed_mean = calculate_trimmed_mean(int_list, 10)\n",
        "print(\"Trimmed Mean:\", trimmed_mean)\n"
      ],
      "metadata": {
        "id": "VnaPPlePxy_k",
        "outputId": "0e54e388-c565-41f0-c94a-359b5a1ce2dc",
        "colab": {
          "base_uri": "https://localhost:8080/"
        }
      },
      "execution_count": 58,
      "outputs": [
        {
          "output_type": "stream",
          "name": "stdout",
          "text": [
            "Trimmed Mean: 111.525\n"
          ]
        }
      ]
    },
    {
      "cell_type": "markdown",
      "source": [
        "2. Generate a list of 500 integers between 200 and 300"
      ],
      "metadata": {
        "id": "BkleO6bPyPrS"
      }
    },
    {
      "cell_type": "code",
      "source": [
        "import random\n",
        "\n",
        "# Generate the list\n",
        "int_list2 = [random.randint(200, 300) for _ in range(500)]\n"
      ],
      "metadata": {
        "id": "12v_HY7Yx6Hf"
      },
      "execution_count": 59,
      "outputs": []
    },
    {
      "cell_type": "markdown",
      "source": [
        "(i) Compare the given list of visualization for the given data:\n",
        "- Frequency & Gaussian Distribution\n",
        "- Frequency Smoothened KDE Plot\n",
        "- Gaussian Distribution & Smoothened KDE Plot"
      ],
      "metadata": {
        "id": "y6Cwb8M1yZoT"
      }
    },
    {
      "cell_type": "code",
      "source": [
        "import matplotlib.pyplot as plt\n",
        "import seaborn as sns\n",
        "import numpy as np\n",
        "\n",
        "# Frequency & Gaussian Distribution\n",
        "plt.figure(figsize=(12, 6))\n",
        "sns.histplot(int_list2, kde=False, bins=30, color='blue', label=\"Frequency\")\n",
        "sns.kdeplot(int_list2, color='red', label=\"Gaussian Distribution\")\n",
        "plt.legend()\n",
        "plt.title(\"Frequency & Gaussian Distribution\")\n",
        "plt.show()\n",
        "\n",
        "# Frequency Smoothened KDE Plot\n",
        "plt.figure(figsize=(12, 6))\n",
        "sns.histplot(int_list2, kde=True, bins=30, color='green', label=\"Frequency Smoothened KDE\")\n",
        "plt.legend()\n",
        "plt.title(\"Frequency Smoothened KDE Plot\")\n",
        "plt.show()\n",
        "\n",
        "# Gaussian Distribution & Smoothened KDE Plot\n",
        "plt.figure(figsize=(12, 6))\n",
        "sns.kdeplot(int_list2, color='red', label=\"Gaussian Distribution\")\n",
        "sns.kdeplot(int_list2, bw_adjust=0.5, color='purple', label=\"Smoothened KDE\")\n",
        "plt.legend()\n",
        "plt.title(\"Gaussian Distribution & Smoothened KDE Plot\")\n",
        "plt.show()\n"
      ],
      "metadata": {
        "id": "omnDDhcsySqn",
        "outputId": "2cd85121-47d9-43f6-e859-0e3354a2287a",
        "colab": {
          "base_uri": "https://localhost:8080/",
          "height": 1000
        }
      },
      "execution_count": 60,
      "outputs": [
        {
          "output_type": "display_data",
          "data": {
            "text/plain": [
              "<Figure size 1200x600 with 1 Axes>"
            ],
            "image/png": "[encoded data removed]"
          },
          "metadata": {}
        },
        {
          "output_type": "display_data",
          "data": {
            "text/plain": [
              "<Figure size 1200x600 with 1 Axes>"
            ],
            "image/png": "[encoded data removed]"
          },
          "metadata": {}
        },
        {
          "output_type": "display_data",
          "data": {
            "text/plain": [
              "<Figure size 1200x600 with 1 Axes>"
            ],
            "image/png": "[encoded data removed]"
          },
          "metadata": {}
        }
      ]
    },
    {
      "cell_type": "markdown",
      "source": [
        "(ii) Write a Python function to calculate the range of a given list of numbers."
      ],
      "metadata": {
        "id": "lQeYrfmZzDS3"
      }
    },
    {
      "cell_type": "code",
      "source": [
        "def calculate_range(numbers):\n",
        "    return max(numbers) - min(numbers)\n",
        "\n",
        "range_value = calculate_range(int_list2)\n",
        "print(\"Range:\", range_value)\n"
      ],
      "metadata": {
        "id": "9LD0qzJ1yh6H",
        "outputId": "daf4ae4e-1659-4d88-ff77-3b2046dc162d",
        "colab": {
          "base_uri": "https://localhost:8080/"
        }
      },
      "execution_count": 61,
      "outputs": [
        {
          "output_type": "stream",
          "name": "stdout",
          "text": [
            "Range: 100\n"
          ]
        }
      ]
    },
    {
      "cell_type": "markdown",
      "source": [
        "(iii) Create a program to find the variance and standard deviation of a list of numbers."
      ],
      "metadata": {
        "id": "vk4zQ6JgzLtH"
      }
    },
    {
      "cell_type": "code",
      "source": [
        "def calculate_variance(numbers):\n",
        "    mean = sum(numbers) / len(numbers)\n",
        "    return sum((x - mean) ** 2 for x in numbers) / len(numbers)\n",
        "\n",
        "def calculate_std_dev(numbers):\n",
        "    return calculate_variance(numbers) ** 0.5\n",
        "\n",
        "variance = calculate_variance(int_list2)\n",
        "std_dev = calculate_std_dev(int_list2)\n",
        "print(\"Variance:\", variance)\n",
        "print(\"Standard Deviation:\", std_dev)\n"
      ],
      "metadata": {
        "id": "vsNBTx8QzIA9",
        "outputId": "e5622ece-1448-43c1-d3aa-38d650224e4e",
        "colab": {
          "base_uri": "https://localhost:8080/"
        }
      },
      "execution_count": 62,
      "outputs": [
        {
          "output_type": "stream",
          "name": "stdout",
          "text": [
            "Variance: 908.616256\n",
            "Standard Deviation: 30.143262199038777\n"
          ]
        }
      ]
    },
    {
      "cell_type": "markdown",
      "source": [
        "(iv) Implement a function to compute the interquartile range (IQR) of a list of values."
      ],
      "metadata": {
        "id": "hups35-JzQOg"
      }
    },
    {
      "cell_type": "code",
      "source": [
        "def calculate_iqr(numbers):\n",
        "    numbers.sort()\n",
        "    q1 = np.percentile(numbers, 25)\n",
        "    q3 = np.percentile(numbers, 75)\n",
        "    return q3 - q1\n",
        "\n",
        "iqr = calculate_iqr(int_list2)\n",
        "print(\"IQR:\", iqr)\n"
      ],
      "metadata": {
        "id": "2YKHQ06jzNhz",
        "outputId": "9ab203df-4b72-44ac-d197-7624bfa36d6b",
        "colab": {
          "base_uri": "https://localhost:8080/"
        }
      },
      "execution_count": 63,
      "outputs": [
        {
          "output_type": "stream",
          "name": "stdout",
          "text": [
            "IQR: 53.0\n"
          ]
        }
      ]
    },
    {
      "cell_type": "markdown",
      "source": [
        "(v) Build a program to calculate the coefficient of variation for a dataset."
      ],
      "metadata": {
        "id": "6Gehg2AJzXIU"
      }
    },
    {
      "cell_type": "code",
      "source": [
        "def calculate_coeff_variation(numbers):\n",
        "    mean = sum(numbers) / len(numbers)\n",
        "    std_dev = calculate_std_dev(numbers)\n",
        "    return (std_dev / mean) * 100\n",
        "\n",
        "coeff_variation = calculate_coeff_variation(int_list2)\n",
        "print(\"Coefficient of Variation:\", coeff_variation)\n"
      ],
      "metadata": {
        "id": "RtqOmb_BzUS2",
        "outputId": "498ca7f8-3e99-4b4c-a21e-0678cb128675",
        "colab": {
          "base_uri": "https://localhost:8080/"
        }
      },
      "execution_count": 64,
      "outputs": [
        {
          "output_type": "stream",
          "name": "stdout",
          "text": [
            "Coefficient of Variation: 12.110007632833607\n"
          ]
        }
      ]
    },
    {
      "cell_type": "markdown",
      "source": [
        "(vi) Write a Python function to find the mean absolute deviation (MAD) of a list of numbers."
      ],
      "metadata": {
        "id": "K9ejHx_SzdYp"
      }
    },
    {
      "cell_type": "code",
      "source": [
        "def calculate_mad(numbers):\n",
        "    mean = sum(numbers) / len(numbers)\n",
        "    return sum(abs(x - mean) for x in numbers) / len(numbers)\n",
        "\n",
        "mad = calculate_mad(int_list2)\n",
        "print(\"Mean Absolute Deviation (MAD):\", mad)\n"
      ],
      "metadata": {
        "id": "lRmzgjtnzZGt",
        "outputId": "c5fc88ff-62be-41e0-c502-01717bb36e6f",
        "colab": {
          "base_uri": "https://localhost:8080/"
        }
      },
      "execution_count": 65,
      "outputs": [
        {
          "output_type": "stream",
          "name": "stdout",
          "text": [
            "Mean Absolute Deviation (MAD): 26.30083199999994\n"
          ]
        }
      ]
    },
    {
      "cell_type": "markdown",
      "source": [
        "(vii) Create a program to calculate the quartile deviation of a list of values."
      ],
      "metadata": {
        "id": "iL18SPw4zjB6"
      }
    },
    {
      "cell_type": "code",
      "source": [
        "def calculate_quartile_deviation(numbers):\n",
        "    numbers.sort()\n",
        "    q1 = np.percentile(numbers, 25)\n",
        "    q3 = np.percentile(numbers, 75)\n",
        "    return (q3 - q1) / 2\n",
        "\n",
        "quartile_deviation = calculate_quartile_deviation(int_list2)\n",
        "print(\"Quartile Deviation:\", quartile_deviation)\n"
      ],
      "metadata": {
        "id": "_Qg-STPIzf3b",
        "outputId": "7e8747ee-8a62-472d-f856-21b8fe140e95",
        "colab": {
          "base_uri": "https://localhost:8080/"
        }
      },
      "execution_count": 66,
      "outputs": [
        {
          "output_type": "stream",
          "name": "stdout",
          "text": [
            "Quartile Deviation: 26.5\n"
          ]
        }
      ]
    },
    {
      "cell_type": "markdown",
      "source": [
        "(viii) Implement a function to find the range-based coefficient of dispersion for a dataset."
      ],
      "metadata": {
        "id": "TGX696xuzo67"
      }
    },
    {
      "cell_type": "code",
      "source": [
        "def calculate_range_based_dispersion(numbers):\n",
        "    return (max(numbers) - min(numbers)) / (max(numbers) + min(numbers))\n",
        "\n",
        "range_dispersion = calculate_range_based_dispersion(int_list2)\n",
        "print(\"Range-based Coefficient of Dispersion:\", range_dispersion)\n"
      ],
      "metadata": {
        "id": "lbJ4A3wEzkwk",
        "outputId": "f5e26bf3-cb68-4eb8-ad23-55f8326e441a",
        "colab": {
          "base_uri": "https://localhost:8080/"
        }
      },
      "execution_count": 67,
      "outputs": [
        {
          "output_type": "stream",
          "name": "stdout",
          "text": [
            "Range-based Coefficient of Dispersion: 0.2\n"
          ]
        }
      ]
    },
    {
      "cell_type": "markdown",
      "source": [
        "3: Write a Python class representing a discrete random variable with methods to calculate its expected value and variance."
      ],
      "metadata": {
        "id": "MUnBuSxbz7ad"
      }
    },
    {
      "cell_type": "code",
      "source": [
        "class DiscreteRandomVariable:\n",
        "    def __init__(self, outcomes, probabilities):\n",
        "        \"\"\"\n",
        "        Initialize the discrete random variable.\n",
        "        :param outcomes: List of possible outcomes\n",
        "        :param probabilities: Corresponding probabilities of outcomes\n",
        "        \"\"\"\n",
        "        if len(outcomes) != len(probabilities):\n",
        "            raise ValueError(\"Outcomes and probabilities must have the same length.\")\n",
        "        if abs(sum(probabilities) - 1) > 1e-6:\n",
        "            raise ValueError(\"Probabilities must sum to 1.\")\n",
        "        self.outcomes = outcomes\n",
        "        self.probabilities = probabilities\n",
        "\n",
        "    def expected_value(self):\n",
        "        \"\"\"\n",
        "        Calculate the expected value of the random variable.\n",
        "        \"\"\"\n",
        "        return sum(o * p for o, p in zip(self.outcomes, self.probabilities))\n",
        "\n",
        "    def variance(self):\n",
        "        \"\"\"\n",
        "        Calculate the variance of the random variable.\n",
        "        \"\"\"\n",
        "        mean = self.expected_value()\n",
        "        return sum(p * (o - mean) ** 2 for o, p in zip(self.outcomes, self.probabilities))\n",
        "\n",
        "\n",
        "# Example Usage\n",
        "outcomes = [1, 2, 3, 4, 5]\n",
        "probabilities = [0.1, 0.2, 0.3, 0.2, 0.2]\n",
        "rv = DiscreteRandomVariable(outcomes, probabilities)\n",
        "print(\"Expected Value:\", rv.expected_value())\n",
        "print(\"Variance:\", rv.variance())\n"
      ],
      "metadata": {
        "id": "7C3ynf57zrLu",
        "outputId": "3f8cf6a4-5465-4a6f-a74d-b2986b2d362d",
        "colab": {
          "base_uri": "https://localhost:8080/"
        }
      },
      "execution_count": 68,
      "outputs": [
        {
          "output_type": "stream",
          "name": "stdout",
          "text": [
            "Expected Value: 3.2\n",
            "Variance: 1.56\n"
          ]
        }
      ]
    },
    {
      "cell_type": "markdown",
      "source": [
        "4: Simulate the rolling of a fair six-sided die and calculate the expected value and variance of the outcomes."
      ],
      "metadata": {
        "id": "XYshu_80z-by"
      }
    },
    {
      "cell_type": "code",
      "source": [
        "import random\n",
        "\n",
        "def roll_die(n_rolls=1000):\n",
        "    \"\"\"\n",
        "    Simulate the rolling of a fair six-sided die.\n",
        "    :param n_rolls: Number of rolls to simulate\n",
        "    \"\"\"\n",
        "    outcomes = [random.randint(1, 6) for _ in range(n_rolls)]\n",
        "    return outcomes\n",
        "\n",
        "def calculate_expected_value(outcomes):\n",
        "    \"\"\"\n",
        "    Calculate the expected value of outcomes.\n",
        "    \"\"\"\n",
        "    mean = sum(outcomes) / len(outcomes)\n",
        "    return mean\n",
        "\n",
        "def calculate_variance(outcomes):\n",
        "    \"\"\"\n",
        "    Calculate the variance of outcomes.\n",
        "    \"\"\"\n",
        "    mean = calculate_expected_value(outcomes)\n",
        "    return sum((x - mean) ** 2 for x in outcomes) / len(outcomes)\n",
        "\n",
        "\n",
        "# Simulate rolling a die\n",
        "rolls = roll_die()\n",
        "expected_value = calculate_expected_value(rolls)\n",
        "variance = calculate_variance(rolls)\n",
        "\n",
        "print(\"Expected Value:\", expected_value)\n",
        "print(\"Variance:\", variance)\n"
      ],
      "metadata": {
        "id": "var8b-sm0ENP",
        "outputId": "82598793-e06d-48a7-f2b3-6f8d9af8c403",
        "colab": {
          "base_uri": "https://localhost:8080/"
        }
      },
      "execution_count": 69,
      "outputs": [
        {
          "output_type": "stream",
          "name": "stdout",
          "text": [
            "Expected Value: 3.572\n",
            "Variance: 2.9308160000000205\n"
          ]
        }
      ]
    },
    {
      "cell_type": "markdown",
      "source": [
        "5: Create a Python function to generate random samples from a given probability distribution (e.g., binomial, Poisson) and calculate their mean and variance."
      ],
      "metadata": {
        "id": "czqW2nAl0MhF"
      }
    },
    {
      "cell_type": "code",
      "source": [
        "import numpy as np\n",
        "\n",
        "def generate_samples(distribution, params, size=1000):\n",
        "    \"\"\"\n",
        "    Generate random samples from a specified distribution.\n",
        "    :param distribution: 'binomial' or 'poisson'\n",
        "    :param params: Parameters for the distribution\n",
        "    :param size: Number of samples\n",
        "    \"\"\"\n",
        "    if distribution == \"binomial\":\n",
        "        n, p = params\n",
        "        samples = np.random.binomial(n, p, size)\n",
        "    elif distribution == \"poisson\":\n",
        "        lam = params\n",
        "        samples = np.random.poisson(lam, size)\n",
        "    else:\n",
        "        raise ValueError(\"Unsupported distribution. Use 'binomial' or 'poisson'.\")\n",
        "    return samples\n",
        "\n",
        "def calculate_mean_and_variance(samples):\n",
        "    \"\"\"\n",
        "    Calculate the mean and variance of samples.\n",
        "    \"\"\"\n",
        "    mean = np.mean(samples)\n",
        "    variance = np.var(samples)\n",
        "    return mean, variance\n",
        "\n",
        "\n",
        "# Example Usage\n",
        "samples_binomial = generate_samples(\"binomial\", (10, 0.5))\n",
        "mean_binomial, variance_binomial = calculate_mean_and_variance(samples_binomial)\n",
        "print(\"Binomial Distribution - Mean:\", mean_binomial, \"Variance:\", variance_binomial)\n",
        "\n",
        "samples_poisson = generate_samples(\"poisson\", 4)\n",
        "mean_poisson, variance_poisson = calculate_mean_and_variance(samples_poisson)\n",
        "print(\"Poisson Distribution - Mean:\", mean_poisson, \"Variance:\", variance_poisson)\n"
      ],
      "metadata": {
        "id": "LK32FA0f0GG_",
        "outputId": "3f1107d4-101e-4f96-919b-b005ac7c8229",
        "colab": {
          "base_uri": "https://localhost:8080/"
        }
      },
      "execution_count": 70,
      "outputs": [
        {
          "output_type": "stream",
          "name": "stdout",
          "text": [
            "Binomial Distribution - Mean: 4.985 Variance: 2.562775\n",
            "Poisson Distribution - Mean: 4.12 Variance: 4.0336\n"
          ]
        }
      ]
    },
    {
      "cell_type": "markdown",
      "source": [
        "6: Generate random numbers from a Gaussian (normal) distribution and compute the mean, variance, and standard deviation of the samples."
      ],
      "metadata": {
        "id": "aJh-y-Wk0UYB"
      }
    },
    {
      "cell_type": "code",
      "source": [
        "def gaussian_distribution(mean=0, std_dev=1, size=1000):\n",
        "    \"\"\"\n",
        "    Generate random numbers from a Gaussian distribution.\n",
        "    :param mean: Mean of the distribution\n",
        "    :param std_dev: Standard deviation\n",
        "    :param size: Number of samples\n",
        "    \"\"\"\n",
        "    samples = np.random.normal(mean, std_dev, size)\n",
        "    return samples\n",
        "\n",
        "# Generate samples\n",
        "samples_gaussian = gaussian_distribution(mean=10, std_dev=2)\n",
        "\n",
        "# Calculate statistics\n",
        "mean_gaussian = np.mean(samples_gaussian)\n",
        "variance_gaussian = np.var(samples_gaussian)\n",
        "std_dev_gaussian = np.std(samples_gaussian)\n",
        "\n",
        "print(\"Gaussian Distribution - Mean:\", mean_gaussian)\n",
        "print(\"Variance:\", variance_gaussian)\n",
        "print(\"Standard Deviation:\", std_dev_gaussian)\n"
      ],
      "metadata": {
        "id": "i5hZ8GsX0PyX",
        "outputId": "e0ec4962-905a-437d-bcae-88494066fb84",
        "colab": {
          "base_uri": "https://localhost:8080/"
        }
      },
      "execution_count": 71,
      "outputs": [
        {
          "output_type": "stream",
          "name": "stdout",
          "text": [
            "Gaussian Distribution - Mean: 10.027571027522578\n",
            "Variance: 4.482506102523125\n",
            "Standard Deviation: 2.1171929771570484\n"
          ]
        }
      ]
    },
    {
      "cell_type": "markdown",
      "source": [
        "7.\n",
        "i. Use the Seaborn library to load the tips dataset and analyze total_bill and tip."
      ],
      "metadata": {
        "id": "oBBtJL6m1NKR"
      }
    },
    {
      "cell_type": "code",
      "source": [
        "import seaborn as sns\n",
        "import pandas as pd\n",
        "from scipy.stats import skew\n",
        "\n",
        "# Load dataset\n",
        "tips = sns.load_dataset(\"tips\")\n",
        "\n",
        "def calculate_skewness(column):\n",
        "    return skew(tips[column])\n",
        "\n",
        "total_bill_skewness = calculate_skewness(\"total_bill\")\n",
        "tip_skewness = calculate_skewness(\"tip\")\n",
        "print(\"Total Bill Skewness:\", total_bill_skewness)\n",
        "print(\"Tip Skewness:\", tip_skewness)\n"
      ],
      "metadata": {
        "id": "w5f6brp41YsJ",
        "outputId": "736e8d19-7e57-4659-855d-42d68c6420c0",
        "colab": {
          "base_uri": "https://localhost:8080/"
        }
      },
      "execution_count": 72,
      "outputs": [
        {
          "output_type": "stream",
          "name": "stdout",
          "text": [
            "Total Bill Skewness: 1.1262346334818638\n",
            "Tip Skewness: 1.4564266884221506\n"
          ]
        }
      ]
    },
    {
      "cell_type": "markdown",
      "source": [
        "(ii) Determine Type of Skewness (Positive, Negative, or Symmetric)"
      ],
      "metadata": {
        "id": "pPPbij0x1ND0"
      }
    },
    {
      "cell_type": "code",
      "source": [
        "def skewness_type(skew_value):\n",
        "    if skew_value > 0:\n",
        "        return \"Positive skew\"\n",
        "    elif skew_value < 0:\n",
        "        return \"Negative skew\"\n",
        "    else:\n",
        "        return \"Symmetric\"\n",
        "\n",
        "# Determine the skewness type for each column\n",
        "total_bill_skewness_type = skewness_type(total_bill_skewness)\n",
        "tip_skewness_type = skewness_type(tip_skewness)\n",
        "\n",
        "print(\"Skewness type of total_bill:\", total_bill_skewness_type)\n",
        "print(\"Skewness type of tip:\", tip_skewness_type)\n"
      ],
      "metadata": {
        "id": "HE03nEoP2_SU",
        "outputId": "81577ac3-5d5d-49f4-9480-5d3de355f8d1",
        "colab": {
          "base_uri": "https://localhost:8080/"
        }
      },
      "execution_count": 73,
      "outputs": [
        {
          "output_type": "stream",
          "name": "stdout",
          "text": [
            "Skewness type of total_bill: Positive skew\n",
            "Skewness type of tip: Positive skew\n"
          ]
        }
      ]
    },
    {
      "cell_type": "markdown",
      "source": [
        "(iii) Function to Calculate Covariance"
      ],
      "metadata": {
        "id": "-Yp2VfiX1M9v"
      }
    },
    {
      "cell_type": "code",
      "source": [
        "def calculate_covariance(data1, data2):\n",
        "    return data1.cov(data2)\n",
        "\n",
        "# Calculate covariance between total_bill and tip\n",
        "covariance = calculate_covariance(tips['total_bill'], tips['tip'])\n",
        "print(\"Covariance between total_bill and tip:\", covariance)\n"
      ],
      "metadata": {
        "id": "eozdT7ml3HYM",
        "outputId": "68234f5f-b877-4f9a-8637-66bb077f8951",
        "colab": {
          "base_uri": "https://localhost:8080/"
        }
      },
      "execution_count": 74,
      "outputs": [
        {
          "output_type": "stream",
          "name": "stdout",
          "text": [
            "Covariance between total_bill and tip: 8.323501629224854\n"
          ]
        }
      ]
    },
    {
      "cell_type": "markdown",
      "source": [
        "iv. Function to Calculate Pearson Correlation Coefficient"
      ],
      "metadata": {
        "id": "s0VH-haw1M4e"
      }
    },
    {
      "cell_type": "code",
      "source": [
        "def calculate_pearson_correlation(data1, data2):\n",
        "    return data1.corr(data2)\n",
        "\n",
        "# Calculate Pearson correlation between total_bill and tip\n",
        "pearson_correlation = calculate_pearson_correlation(tips['total_bill'], tips['tip'])\n",
        "print(\"Pearson correlation coefficient between total_bill and tip:\", pearson_correlation)\n"
      ],
      "metadata": {
        "id": "sgxDRsij3R4d",
        "outputId": "d55ba769-911a-4fbf-8d10-77762752aa58",
        "colab": {
          "base_uri": "https://localhost:8080/"
        }
      },
      "execution_count": 75,
      "outputs": [
        {
          "output_type": "stream",
          "name": "stdout",
          "text": [
            "Pearson correlation coefficient between total_bill and tip: 0.6757341092113641\n"
          ]
        }
      ]
    },
    {
      "cell_type": "markdown",
      "source": [
        "(v) Script to Visualize the Correlation Using a Scatter Plot"
      ],
      "metadata": {
        "id": "5s1RxuxD1My2"
      }
    },
    {
      "cell_type": "code",
      "source": [
        "import matplotlib.pyplot as plt\n",
        "\n",
        "# Create a scatter plot to visualize the correlation between total_bill and tip\n",
        "plt.figure(figsize=(8,6))\n",
        "plt.scatter(tips['total_bill'], tips['tip'], alpha=0.7, color='b')\n",
        "plt.title(\"Scatter plot of total_bill vs tip\")\n",
        "plt.xlabel(\"Total Bill\")\n",
        "plt.ylabel(\"Tip\")\n",
        "plt.show()\n"
      ],
      "metadata": {
        "id": "9zM8gwhm3XUk",
        "outputId": "5ccc586d-67bb-4e3e-8418-380083e9672a",
        "colab": {
          "base_uri": "https://localhost:8080/",
          "height": 564
        }
      },
      "execution_count": 76,
      "outputs": [
        {
          "output_type": "display_data",
          "data": {
            "text/plain": [
              "<Figure size 800x600 with 1 Axes>"
            ],
            "image/png": "[encoded data removed]"
          },
          "metadata": {}
        }
      ]
    },
    {
      "cell_type": "markdown",
      "source": [
        "8. Write a Python function to calculate the probability density function (PDF) of a continuous random variable for a given normal distribution."
      ],
      "metadata": {
        "id": "FeB0PDJs0shJ"
      }
    },
    {
      "cell_type": "code",
      "source": [
        "import math\n",
        "\n",
        "def calculate_pdf(x, mean, std_dev):\n",
        "    \"\"\"\n",
        "    Calculate the PDF of a normal distribution.\n",
        "    :param x: Value to calculate the PDF for\n",
        "    :param mean: Mean of the distribution\n",
        "    :param std_dev: Standard deviation of the distribution\n",
        "    \"\"\"\n",
        "    coefficient = 1 / (math.sqrt(2 * math.pi) * std_dev)\n",
        "    exponent = math.exp(-((x - mean) ** 2) / (2 * std_dev ** 2))\n",
        "    return coefficient * exponent\n",
        "\n",
        "# Example Usage\n",
        "pdf_value = calculate_pdf(10, mean=10, std_dev=2)\n",
        "print(\"PDF Value:\", pdf_value)\n"
      ],
      "metadata": {
        "id": "WJsT-CBp0cXk",
        "outputId": "216cba44-7144-4c3d-8493-1f975a2be992",
        "colab": {
          "base_uri": "https://localhost:8080/"
        }
      },
      "execution_count": 77,
      "outputs": [
        {
          "output_type": "stream",
          "name": "stdout",
          "text": [
            "PDF Value: 0.19947114020071635\n"
          ]
        }
      ]
    },
    {
      "cell_type": "markdown",
      "source": [
        "9. Create a program to calculate the cumulative distribution function (CDF) of an exponential distribution."
      ],
      "metadata": {
        "id": "BUjYbYQX1Bnk"
      }
    },
    {
      "cell_type": "code",
      "source": [
        "def calculate_cdf(x, rate):\n",
        "    \"\"\"\n",
        "    Calculate the CDF of an exponential distribution.\n",
        "    :param x: Value to calculate the CDF for\n",
        "    :param rate: Rate parameter (lambda)\n",
        "    \"\"\"\n",
        "    if x < 0:\n",
        "        return 0\n",
        "    return 1 - math.exp(-rate * x)\n",
        "\n",
        "# Example Usage\n",
        "cdf_value = calculate_cdf(2, rate=1.5)\n",
        "print(\"CDF Value:\", cdf_value)\n"
      ],
      "metadata": {
        "id": "UbgKpbw3003y",
        "outputId": "0d3a2ea9-5ec1-40bc-fe45-c478ff7279f7",
        "colab": {
          "base_uri": "https://localhost:8080/"
        }
      },
      "execution_count": 78,
      "outputs": [
        {
          "output_type": "stream",
          "name": "stdout",
          "text": [
            "CDF Value: 0.950212931632136\n"
          ]
        }
      ]
    },
    {
      "cell_type": "markdown",
      "source": [
        "10. Write a Python function to calculate the probability mass function (PMF) of a Poisson distribution."
      ],
      "metadata": {
        "id": "8Bsq6q4I1NP-"
      }
    },
    {
      "cell_type": "code",
      "source": [
        "def calculate_pmf(k, rate):\n",
        "    \"\"\"\n",
        "    Calculate the PMF of a Poisson distribution.\n",
        "    :param k: Number of occurrences\n",
        "    :param rate: Average rate of occurrence (lambda)\n",
        "    \"\"\"\n",
        "    return (rate ** k * math.exp(-rate)) / math.factorial(k)\n",
        "\n",
        "# Example Usage\n",
        "pmf_value = calculate_pmf(3, rate=4)\n",
        "print(\"PMF Value:\", pmf_value)\n"
      ],
      "metadata": {
        "id": "kuKoz6VA1O4G",
        "outputId": "9ac2b2b5-1aa8-4fc1-e2d6-0e7bbf38fda7",
        "colab": {
          "base_uri": "https://localhost:8080/"
        }
      },
      "execution_count": 79,
      "outputs": [
        {
          "output_type": "stream",
          "name": "stdout",
          "text": [
            "PMF Value: 0.19536681481316456\n"
          ]
        }
      ]
    },
    {
      "cell_type": "markdown",
      "source": [
        "11. Z-Test: Website Layout Conversion Rate"
      ],
      "metadata": {
        "id": "IkiPhrHc4c-w"
      }
    },
    {
      "cell_type": "code",
      "source": [
        "import numpy as np\n",
        "from statsmodels.stats.proportion import proportions_ztest\n",
        "\n",
        "# Data: Old layout (50 purchases out of 1000 visitors) and New layout (70 purchases out of 1000 visitors)\n",
        "old_layout = np.array([1] * 50 + [0] * 950)\n",
        "new_layout = np.array([1] * 70 + [0] * 930)\n",
        "\n",
        "# Perform Z-test for two proportions\n",
        "successes = np.array([50, 70])\n",
        "totals = np.array([1000, 1000])\n",
        "\n",
        "# Z-test\n",
        "z_stat, p_value = proportions_ztest(successes, totals)\n",
        "\n",
        "print(f\"Z-statistic: {z_stat}\")\n",
        "print(f\"P-value: {p_value}\")\n"
      ],
      "metadata": {
        "id": "XGWq0ZdA4gFA",
        "outputId": "41059406-bf59-4444-b2cc-9c7cb7b0a790",
        "colab": {
          "base_uri": "https://localhost:8080/"
        }
      },
      "execution_count": 80,
      "outputs": [
        {
          "output_type": "stream",
          "name": "stdout",
          "text": [
            "Z-statistic: -1.883108942886774\n",
            "P-value: 0.059685605532426224\n"
          ]
        }
      ]
    },
    {
      "cell_type": "markdown",
      "source": [
        "12. Z-Test: Tutoring Program Exam Scores"
      ],
      "metadata": {
        "id": "U_W_P9nH4k48"
      }
    },
    {
      "cell_type": "code",
      "source": [
        "import numpy as np\n",
        "from scipy import stats\n",
        "\n",
        "before_program = np.array([75, 80, 85, 70, 90, 78, 92, 88, 82, 87])\n",
        "after_program = np.array([80, 85, 90, 80, 92, 80, 95, 90, 85, 88])\n",
        "\n",
        "# Z-test for the difference in means of two related samples\n",
        "difference = after_program - before_program\n",
        "z_stat, p_value = stats.ttest_1samp(difference, 0)\n",
        "\n",
        "print(f\"Z-statistic: {z_stat}\")\n",
        "print(f\"P-value: {p_value}\")\n"
      ],
      "metadata": {
        "id": "wRO3mskQ4iYs",
        "outputId": "7689e127-c4e2-47e1-c7de-0ad69959c71d",
        "colab": {
          "base_uri": "https://localhost:8080/"
        }
      },
      "execution_count": 81,
      "outputs": [
        {
          "output_type": "stream",
          "name": "stdout",
          "text": [
            "Z-statistic: 4.593190894944668\n",
            "P-value: 0.0013030932910086035\n"
          ]
        }
      ]
    },
    {
      "cell_type": "markdown",
      "source": [
        "13. Z-Test: Pharmaceutical Drug Effectiveness"
      ],
      "metadata": {
        "id": "ndiGqkjj4psT"
      }
    },
    {
      "cell_type": "code",
      "source": [
        "import numpy as np\n",
        "from scipy import stats\n",
        "\n",
        "before_drug = np.array([145, 150, 140, 135, 155, 160, 152, 148, 130, 138])\n",
        "after_drug = np.array([130, 140, 132, 128, 145, 148, 138, 136, 125, 130])\n",
        "\n",
        "# Calculate the difference in blood pressure\n",
        "difference = before_drug - after_drug\n",
        "z_stat, p_value = stats.ttest_1samp(difference, 0)\n",
        "\n",
        "print(f\"Z-statistic: {z_stat}\")\n",
        "print(f\"P-value: {p_value}\")\n"
      ],
      "metadata": {
        "id": "Fo4dTwTR4nfK",
        "outputId": "f79481b0-828f-46be-dfa0-b7d2c67fdb7b",
        "colab": {
          "base_uri": "https://localhost:8080/"
        }
      },
      "execution_count": 82,
      "outputs": [
        {
          "output_type": "stream",
          "name": "stdout",
          "text": [
            "Z-statistic: 10.04987562112089\n",
            "P-value: 3.433031432681152e-06\n"
          ]
        }
      ]
    },
    {
      "cell_type": "markdown",
      "source": [
        "14. Z-Test: Customer Service Response Time"
      ],
      "metadata": {
        "id": "fkrCzMgU4tw_"
      }
    },
    {
      "cell_type": "code",
      "source": [
        "import numpy as np\n",
        "from scipy import stats\n",
        "\n",
        "response_times = np.array([4.3, 3.8, 5.1, 4.9, 4.7, 4.2, 5.2, 4.5, 4.6, 4.4])\n",
        "\n",
        "# Perform Z-test for a population mean (test if mean < 5 minutes)\n",
        "z_stat, p_value = stats.ttest_1samp(response_times, 5)\n",
        "\n",
        "print(f\"Z-statistic: {z_stat}\")\n",
        "print(f\"P-value: {p_value}\")\n"
      ],
      "metadata": {
        "id": "5AhhbUHq4r8p",
        "outputId": "51d0709f-0f64-4123-df70-9e77501b3ec4",
        "colab": {
          "base_uri": "https://localhost:8080/"
        }
      },
      "execution_count": 83,
      "outputs": [
        {
          "output_type": "stream",
          "name": "stdout",
          "text": [
            "Z-statistic: -3.1844572260429627\n",
            "P-value: 0.011104982316785018\n"
          ]
        }
      ]
    },
    {
      "cell_type": "markdown",
      "source": [
        "15. A/B Test: Website Layouts (T-Test)"
      ],
      "metadata": {
        "id": "L5ARPA4p4xsn"
      }
    },
    {
      "cell_type": "code",
      "source": [
        "import numpy as np\n",
        "from scipy import stats\n",
        "\n",
        "layout_a_clicks = [28, 32, 33, 29, 31, 34, 30, 35, 36, 37]\n",
        "layout_b_clicks = [40, 41, 38, 42, 39, 44, 43, 41, 45, 47]\n",
        "\n",
        "# Perform two-sample t-test\n",
        "t_stat, p_value = stats.ttest_ind(layout_a_clicks, layout_b_clicks)\n",
        "\n",
        "print(f\"T-statistic: {t_stat}\")\n",
        "print(f\"P-value: {p_value}\")\n"
      ],
      "metadata": {
        "id": "ky4cQ7DW4w0N",
        "outputId": "aa3b8d15-3bd4-4fdc-898d-4dfacb762913",
        "colab": {
          "base_uri": "https://localhost:8080/"
        }
      },
      "execution_count": 84,
      "outputs": [
        {
          "output_type": "stream",
          "name": "stdout",
          "text": [
            "T-statistic: -7.298102156175071\n",
            "P-value: 8.833437608301987e-07\n"
          ]
        }
      ]
    },
    {
      "cell_type": "markdown",
      "source": [
        "16.  T-Test: New Drug vs. Existing Drug in Cholesterol Levels"
      ],
      "metadata": {
        "id": "nKB6IQZI4_Fo"
      }
    },
    {
      "cell_type": "code",
      "source": [
        "import numpy as np\n",
        "from scipy import stats\n",
        "\n",
        "existing_drug_levels = [180, 182, 175, 185, 178, 176, 172, 184, 179, 183]\n",
        "new_drug_levels = [170, 172, 165, 168, 175, 173, 170, 178, 172, 176]\n",
        "\n",
        "# Perform two-sample t-test\n",
        "t_stat, p_value = stats.ttest_ind(existing_drug_levels, new_drug_levels)\n",
        "\n",
        "print(f\"T-statistic: {t_stat}\")\n",
        "print(f\"P-value: {p_value}\")\n"
      ],
      "metadata": {
        "id": "OZpLyGkW48bq",
        "outputId": "5fe7c5da-79f0-4133-e46b-a02f3948575a",
        "colab": {
          "base_uri": "https://localhost:8080/"
        }
      },
      "execution_count": 85,
      "outputs": [
        {
          "output_type": "stream",
          "name": "stdout",
          "text": [
            "T-statistic: 4.14048098620866\n",
            "P-value: 0.0006143398442372505\n"
          ]
        }
      ]
    },
    {
      "cell_type": "markdown",
      "source": [
        "17. T-Test: Intervention Program Impact on Test Scores"
      ],
      "metadata": {
        "id": "4iberfsj5GN6"
      }
    },
    {
      "cell_type": "code",
      "source": [
        "import numpy as np\n",
        "from scipy import stats\n",
        "\n",
        "pre_intervention_scores = [80, 85, 90, 75, 88, 82, 92, 78, 85, 87]\n",
        "post_intervention_scores = [90, 92, 88, 92, 95, 91, 96, 93, 89, 93]\n",
        "\n",
        "# Paired t-test\n",
        "t_stat, p_value = stats.ttest_rel(post_intervention_scores, pre_intervention_scores)\n",
        "\n",
        "print(f\"T-statistic: {t_stat}\")\n",
        "print(f\"P-value: {p_value}\")\n"
      ],
      "metadata": {
        "id": "XsTerVTy5D4F",
        "outputId": "6392b5b1-a9b5-4278-86a5-2284270b423b",
        "colab": {
          "base_uri": "https://localhost:8080/"
        }
      },
      "execution_count": 86,
      "outputs": [
        {
          "output_type": "stream",
          "name": "stdout",
          "text": [
            "T-statistic: 4.42840883965761\n",
            "P-value: 0.0016509548165795493\n"
          ]
        }
      ]
    },
    {
      "cell_type": "markdown",
      "source": [
        "18. T-Test: Gender-based Salary Gap"
      ],
      "metadata": {
        "id": "vzRNMgp75il0"
      }
    },
    {
      "cell_type": "code",
      "source": [
        "import numpy as np\n",
        "from scipy import stats\n",
        "\n",
        "male_salaries = np.random.normal(loc=50000, scale=10000, size=20)\n",
        "female_salaries = np.random.normal(loc=55000, scale=9000, size=20)\n",
        "\n",
        "# Perform independent two-sample t-test\n",
        "t_stat, p_value = stats.ttest_ind(male_salaries, female_salaries)\n",
        "\n",
        "print(f\"T-statistic: {t_stat}\")\n",
        "print(f\"P-value: {p_value}\")\n"
      ],
      "metadata": {
        "id": "_azLoQBp5kOC",
        "outputId": "c11513c8-be8c-4f07-b511-36172d0064f3",
        "colab": {
          "base_uri": "https://localhost:8080/"
        }
      },
      "execution_count": 87,
      "outputs": [
        {
          "output_type": "stream",
          "name": "stdout",
          "text": [
            "T-statistic: -1.2527415795165946\n",
            "P-value: 0.21795438934091502\n"
          ]
        }
      ]
    },
    {
      "cell_type": "markdown",
      "source": [
        "19. T-Test: Product Versions Quality Scores"
      ],
      "metadata": {
        "id": "0n8nnz6x5pSl"
      }
    },
    {
      "cell_type": "code",
      "source": [
        "import numpy as np\n",
        "from scipy import stats\n",
        "\n",
        "version1_scores = [85, 88, 82, 89, 87, 84, 90, 88, 85, 86, 91, 83, 87, 84, 89, 86, 84, 88, 85, 86, 89, 90, 87, 88, 85]\n",
        "version2_scores = [80, 78, 83, 81, 79, 82, 76, 80, 78, 81, 77, 82, 80, 79, 82, 79, 80, 81, 79, 82, 79, 78, 80, 81, 82]\n",
        "\n",
        "# Independent two-sample t-test\n",
        "t_stat, p_value = stats.ttest_ind(version1_scores, version2_scores)\n",
        "\n",
        "print(f\"T-statistic: {t_stat}\")\n",
        "print(f\"P-value: {p_value}\")\n"
      ],
      "metadata": {
        "id": "hOBoNJnD5rBR",
        "outputId": "ebcb3db3-9e73-429a-9d92-a47b66a3a74e",
        "colab": {
          "base_uri": "https://localhost:8080/"
        }
      },
      "execution_count": 88,
      "outputs": [
        {
          "output_type": "stream",
          "name": "stdout",
          "text": [
            "T-statistic: 11.325830417646698\n",
            "P-value: 3.6824250702873965e-15\n"
          ]
        }
      ]
    },
    {
      "cell_type": "markdown",
      "source": [
        "20. T-Test: Restaurant Branch Satisfaction"
      ],
      "metadata": {
        "id": "IPCU5j_R5u7p"
      }
    },
    {
      "cell_type": "code",
      "source": [
        "import numpy as np\n",
        "from scipy import stats\n",
        "\n",
        "branch_a_scores = [4, 5, 3, 4, 5, 4, 5, 3, 4, 4, 5, 4, 4, 3, 4, 5, 5, 4, 3, 4, 5, 4, 3, 5, 4, 4, 5, 3, 4, 5, 4]\n",
        "branch_b_scores = [3, 4, 2, 3, 4, 3, 4, 2, 3, 3, 4, 3, 3, 2, 3, 4, 4, 3, 2, 3, 4, 3, 2, 4, 3, 3, 4, 2, 3, 4, 3]\n",
        "\n",
        "# Independent two-sample t-test\n",
        "t_stat, p_value = stats.ttest_ind(branch_a_scores, branch_b_scores)\n",
        "\n",
        "print(f\"T-statistic: {t_stat}\")\n",
        "print(f\"P-value: {p_value}\")\n"
      ],
      "metadata": {
        "id": "rpq7dK7z5g_I",
        "outputId": "34efa801-1ae9-4bb9-d563-eeada9d6c27c",
        "colab": {
          "base_uri": "https://localhost:8080/"
        }
      },
      "execution_count": 89,
      "outputs": [
        {
          "output_type": "stream",
          "name": "stdout",
          "text": [
            "T-statistic: 5.480077554195743\n",
            "P-value: 8.895290509945655e-07\n"
          ]
        }
      ]
    },
    {
      "cell_type": "markdown",
      "source": [
        "21. Chi-Square Test: Voter Preferences and Age Groups"
      ],
      "metadata": {
        "id": "DyBMcBFt5zPl"
      }
    },
    {
      "cell_type": "code",
      "source": [
        "import numpy as np\n",
        "from scipy.stats import chi2_contingency\n",
        "\n",
        "# Data: Age groups and voter preferences\n",
        "age_groups = np.random.choice(['18-30', '31-50', '51+'], size=30)\n",
        "voter_preferences = np.random.choice(['Candidate A', 'Candidate B'], size=30)\n",
        "\n",
        "contingency_table = np.array([[np.sum((age_groups == age) & (voter_preferences == 'Candidate A')) for age in ['18-30', '31-50', '51+']],\n",
        "                              [np.sum((age_groups == age) & (voter_preferences == 'Candidate B')) for age in ['18-30', '31-50', '51+']]])\n",
        "\n",
        "contingency_table"
      ],
      "metadata": {
        "id": "ld2lR4sx5xTZ",
        "outputId": "c9599600-1214-4fed-af9d-a52009ccae06",
        "colab": {
          "base_uri": "https://localhost:8080/"
        }
      },
      "execution_count": 90,
      "outputs": [
        {
          "output_type": "execute_result",
          "data": {
            "text/plain": [
              "array([[5, 8, 4],\n",
              "       [4, 3, 6]])"
            ]
          },
          "metadata": {},
          "execution_count": 90
        }
      ]
    },
    {
      "cell_type": "markdown",
      "source": [
        "21. Chi-Square Test for Association between Age Groups and Voter Preferences"
      ],
      "metadata": {
        "id": "Vjm4tlLM6kfU"
      }
    },
    {
      "cell_type": "code",
      "source": [
        "import numpy as np\n",
        "from scipy.stats import chi2_contingency\n",
        "\n",
        "# Generate data\n",
        "np.random.seed(0)\n",
        "\n",
        "age_groups = np.random.choice(['18-30', '31-50', '51+'], size=500)\n",
        "voter_preferences = np.random.choice(['Candidate A', 'Candidate B'], size=500)\n",
        "\n",
        "# Create the contingency table\n",
        "contingency_table = np.array([[np.sum((age_groups == age) & (voter_preferences == 'Candidate A')) for age in ['18-30', '31-50', '51+']],\n",
        "                              [np.sum((age_groups == age) & (voter_preferences == 'Candidate B')) for age in ['18-30', '31-50', '51+']]])\n",
        "\n",
        "# Perform the Chi-Square test\n",
        "chi2_stat, p_val, dof, expected = chi2_contingency(contingency_table)\n",
        "\n",
        "# Print the results\n",
        "print(f\"Chi-Square Statistic: {chi2_stat}\")\n",
        "print(f\"P-Value: {p_val}\")\n",
        "print(f\"Degrees of Freedom: {dof}\")\n",
        "print(f\"Expected Frequencies: \\n{expected}\")\n",
        "\n",
        "# Conclusion\n",
        "if p_val < 0.05:\n",
        "    print(\"There is a significant association between age groups and voter preferences.\")\n",
        "else:\n",
        "    print(\"There is no significant association between age groups and voter preferences.\")\n"
      ],
      "metadata": {
        "id": "Jjhhtz3V51ZP",
        "outputId": "472f2866-de79-4742-ded5-ca4355e4c883",
        "colab": {
          "base_uri": "https://localhost:8080/"
        }
      },
      "execution_count": 91,
      "outputs": [
        {
          "output_type": "stream",
          "name": "stdout",
          "text": [
            "Chi-Square Statistic: 0.8779923945254768\n",
            "P-Value: 0.6446832311860852\n",
            "Degrees of Freedom: 2\n",
            "Expected Frequencies: \n",
            "[[96.824 89.908 79.268]\n",
            " [85.176 79.092 69.732]]\n",
            "There is no significant association between age groups and voter preferences.\n"
          ]
        }
      ]
    },
    {
      "cell_type": "markdown",
      "source": [
        "22. Chi-Square Test for Relationship Between Product Satisfaction Levels and Customer Regions"
      ],
      "metadata": {
        "id": "nFdKEXN36rKU"
      }
    },
    {
      "cell_type": "code",
      "source": [
        "from scipy.stats import chi2_contingency\n",
        "\n",
        "# Sample data: Product satisfaction levels (rows) vs. Customer regions (columns)\n",
        "data = np.array([[50, 30, 40, 20],\n",
        "                 [30, 40, 30, 50],\n",
        "                 [20, 30, 40, 30]])\n",
        "\n",
        "# Perform the Chi-Square test\n",
        "chi2_stat, p_val, dof, expected = chi2_contingency(data)\n",
        "\n",
        "# Print the results\n",
        "print(f\"Chi-Square Statistic: {chi2_stat}\")\n",
        "print(f\"P-Value: {p_val}\")\n",
        "print(f\"Degrees of Freedom: {dof}\")\n",
        "print(f\"Expected Frequencies: \\n{expected}\")\n",
        "\n",
        "# Conclusion\n",
        "if p_val < 0.05:\n",
        "    print(\"There is a significant relationship between product satisfaction levels and customer regions.\")\n",
        "else:\n",
        "    print(\"There is no significant relationship between product satisfaction levels and customer regions.\")\n"
      ],
      "metadata": {
        "id": "Z2rSmPWu6mpl",
        "outputId": "95387f75-d677-4912-de61-8b88dc9ea456",
        "colab": {
          "base_uri": "https://localhost:8080/"
        }
      },
      "execution_count": 92,
      "outputs": [
        {
          "output_type": "stream",
          "name": "stdout",
          "text": [
            "Chi-Square Statistic: 27.777056277056275\n",
            "P-Value: 0.00010349448486004387\n",
            "Degrees of Freedom: 6\n",
            "Expected Frequencies: \n",
            "[[34.14634146 34.14634146 37.56097561 34.14634146]\n",
            " [36.58536585 36.58536585 40.24390244 36.58536585]\n",
            " [29.26829268 29.26829268 32.19512195 29.26829268]]\n",
            "There is a significant relationship between product satisfaction levels and customer regions.\n"
          ]
        }
      ]
    },
    {
      "cell_type": "markdown",
      "source": [
        "23. Chi-Square Test for Job Performance Levels Before and After Training"
      ],
      "metadata": {
        "id": "dgs4jUfW6wfL"
      }
    },
    {
      "cell_type": "code",
      "source": [
        "from scipy.stats import chi2_contingency\n",
        "\n",
        "# Sample data: Job performance levels before (rows) and after (columns) training\n",
        "data = np.array([[50, 30, 20],\n",
        "                 [30, 40, 30],\n",
        "                 [20, 30, 40]])\n",
        "\n",
        "# Perform the Chi-Square test\n",
        "chi2_stat, p_val, dof, expected = chi2_contingency(data)\n",
        "\n",
        "# Print the results\n",
        "print(f\"Chi-Square Statistic: {chi2_stat}\")\n",
        "print(f\"P-Value: {p_val}\")\n",
        "print(f\"Degrees of Freedom: {dof}\")\n",
        "print(f\"Expected Frequencies: \\n{expected}\")\n",
        "\n",
        "# Conclusion\n",
        "if p_val < 0.05:\n",
        "    print(\"There is a significant difference between job performance levels before and after training.\")\n",
        "else:\n",
        "    print(\"There is no significant difference between job performance levels before and after training.\")\n"
      ],
      "metadata": {
        "id": "ndqIOy6H6tMw",
        "outputId": "4aa6751c-c56d-43d1-d6a6-fe44866e8ac4",
        "colab": {
          "base_uri": "https://localhost:8080/"
        }
      },
      "execution_count": 93,
      "outputs": [
        {
          "output_type": "stream",
          "name": "stdout",
          "text": [
            "Chi-Square Statistic: 22.161728395061726\n",
            "P-Value: 0.00018609719479882557\n",
            "Degrees of Freedom: 4\n",
            "Expected Frequencies: \n",
            "[[34.48275862 34.48275862 31.03448276]\n",
            " [34.48275862 34.48275862 31.03448276]\n",
            " [31.03448276 31.03448276 27.93103448]]\n",
            "There is a significant difference between job performance levels before and after training.\n"
          ]
        }
      ]
    },
    {
      "cell_type": "markdown",
      "source": [
        "24. ANOVA Test for Customer Satisfaction Scores Across Different Product Versions"
      ],
      "metadata": {
        "id": "kKU7o_W861td"
      }
    },
    {
      "cell_type": "code",
      "source": [
        "import numpy as np\n",
        "from scipy.stats import f_oneway\n",
        "\n",
        "# Sample data: Customer satisfaction scores for each product version\n",
        "standard_scores = [80, 85, 90, 78, 88, 82, 92, 78, 85, 87]\n",
        "premium_scores = [90, 92, 88, 92, 95, 91, 96, 93, 89, 93]\n",
        "deluxe_scores = [95, 98, 92, 97, 96, 94, 98, 97, 92, 99]\n",
        "\n",
        "# Perform ANOVA\n",
        "f_stat, p_val = f_oneway(standard_scores, premium_scores, deluxe_scores)\n",
        "\n",
        "# Print the results\n",
        "print(f\"F-Statistic: {f_stat}\")\n",
        "print(f\"P-Value: {p_val}\")\n",
        "\n",
        "# Conclusion\n",
        "if p_val < 0.05:\n",
        "    print(\"There is a significant difference in customer satisfaction scores among the three product versions.\")\n",
        "else:\n",
        "    print(\"There is no significant difference in customer satisfaction scores among the three product versions.\")\n"
      ],
      "metadata": {
        "id": "Uit3QyXc6ze-",
        "outputId": "74b9a792-699e-460a-dd4e-a32e6b636d05",
        "colab": {
          "base_uri": "https://localhost:8080/"
        }
      },
      "execution_count": 94,
      "outputs": [
        {
          "output_type": "stream",
          "name": "stdout",
          "text": [
            "F-Statistic: 27.03556231003039\n",
            "P-Value: 3.5786328857349003e-07\n",
            "There is a significant difference in customer satisfaction scores among the three product versions.\n"
          ]
        }
      ]
    },
    {
      "cell_type": "code",
      "source": [],
      "metadata": {
        "id": "8nG1CEQf64Xu"
      },
      "execution_count": 94,
      "outputs": []
    }
  ],
  "metadata": {
    "colab": {
      "name": "Welcome To Colab",
      "provenance": []
    },
    "kernelspec": {
      "display_name": "Python 3",
      "name": "python3"
    }
  },
  "nbformat": 4,
  "nbformat_minor": 0
}