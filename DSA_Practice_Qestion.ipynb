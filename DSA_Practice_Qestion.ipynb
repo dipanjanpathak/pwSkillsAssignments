{
  "cells": [
    {
      "cell_type": "markdown",
      "source": [
        "1. Define a doubly linked list"
      ],
      "metadata": {
        "id": "IWW7VMJQrfE_"
      }
    },
    {
      "cell_type": "code",
      "source": [
        "class Node:\n",
        "    def __init__(self, data):\n",
        "        self.data = data\n",
        "        self.next = None\n",
        "        self.prev = None\n",
        "\n",
        "class DoublyLinkedList:\n",
        "    def __init__(self):\n",
        "        self.head = None\n",
        "\n",
        "    def append(self, data):\n",
        "        new_node = Node(data)\n",
        "        if not self.head:\n",
        "            self.head = new_node\n",
        "            return\n",
        "        current = self.head\n",
        "        while current.next:\n",
        "            current = current.next\n",
        "        current.next = new_node\n",
        "        new_node.prev = current\n",
        "\n",
        "    def display(self):\n",
        "        current = self.head\n",
        "        while current:\n",
        "            print(current.data, end=\" <-> \")\n",
        "            current = current.next\n",
        "        print(\"None\")\n",
        "\n",
        "# Example\n",
        "dll = DoublyLinkedList()\n",
        "dll.append(10)\n",
        "dll.append(20)\n",
        "dll.append(30)\n",
        "dll.display()\n"
      ],
      "metadata": {
        "id": "Ee25aMyJrShN",
        "outputId": "08df8145-4081-461e-be61-e4a8d3bb482b",
        "colab": {
          "base_uri": "https://localhost:8080/"
        }
      },
      "execution_count": 4,
      "outputs": [
        {
          "output_type": "stream",
          "name": "stdout",
          "text": [
            "10 <-> 20 <-> 30 <-> None\n"
          ]
        }
      ]
    },
    {
      "cell_type": "markdown",
      "source": [
        "2. Write a function to reverse a linked list in-place"
      ],
      "metadata": {
        "id": "mCS_bIHwrplo"
      }
    },
    {
      "cell_type": "code",
      "source": [
        "class Node:\n",
        "    def __init__(self, data):\n",
        "        self.data = data\n",
        "        self.next = None\n",
        "\n",
        "def reverse_linked_list(head):\n",
        "    prev = None\n",
        "    current = head\n",
        "    while current:\n",
        "        next_node = current.next\n",
        "        current.next = prev\n",
        "        prev = current\n",
        "        current = next_node\n",
        "    return prev\n",
        "\n",
        "def print_list(head):\n",
        "    current = head\n",
        "    while current:\n",
        "        print(current.data, end=\" -> \")\n",
        "        current = current.next\n",
        "    print(\"None\")\n",
        "\n",
        "# Example\n",
        "head = Node(1)\n",
        "head.next = Node(2)\n",
        "head.next.next = Node(3)\n",
        "print(\"Original List:\")\n",
        "print_list(head)\n",
        "head = reverse_linked_list(head)\n",
        "print(\"Reversed List:\")\n",
        "print_list(head)\n"
      ],
      "metadata": {
        "id": "IRq0_DJtrkVE",
        "outputId": "c8baff4c-a224-46c1-e6ff-1cef60844585",
        "colab": {
          "base_uri": "https://localhost:8080/"
        }
      },
      "execution_count": 5,
      "outputs": [
        {
          "output_type": "stream",
          "name": "stdout",
          "text": [
            "Original List:\n",
            "1 -> 2 -> 3 -> None\n",
            "Reversed List:\n",
            "3 -> 2 -> 1 -> None\n"
          ]
        }
      ]
    },
    {
      "cell_type": "markdown",
      "source": [
        "3. Detect cycle in a linked list"
      ],
      "metadata": {
        "id": "e-ZhHuiXuMd8"
      }
    },
    {
      "cell_type": "code",
      "source": [
        "def detect_cycle(head):\n",
        "    slow, fast = head, head\n",
        "    while fast and fast.next:\n",
        "        slow = slow.next\n",
        "        fast = fast.next.next\n",
        "        if slow == fast:\n",
        "            return True\n",
        "    return False\n",
        "\n",
        "# Example\n",
        "head = Node(1)\n",
        "head.next = Node(2)\n",
        "head.next.next = Node(3)\n",
        "head.next.next.next = head.next\n",
        "print(\"Cycle Detected:\" if detect_cycle(head) else \"No Cycle Detected\")\n"
      ],
      "metadata": {
        "id": "dxCqh9AwrtKQ",
        "outputId": "63fe2862-662c-4836-8881-f42da911b64f",
        "colab": {
          "base_uri": "https://localhost:8080/"
        }
      },
      "execution_count": 7,
      "outputs": [
        {
          "output_type": "stream",
          "name": "stdout",
          "text": [
            "Cycle Detected:\n"
          ]
        }
      ]
    },
    {
      "cell_type": "markdown",
      "source": [
        "4.Merge Two Sorted Linked Lists into one\n",
        "1->3->5->6->null and 2->4->6->8->null should be merged to make\n",
        "\n",
        "1->2->3->4->5->6->7->8"
      ],
      "metadata": {
        "id": "bq771GlRujxn"
      }
    },
    {
      "cell_type": "code",
      "source": [
        "def merge_sorted_lists(l1, l2):\n",
        "    dummy = Node(0)\n",
        "    current = dummy\n",
        "    while l1 and l2:\n",
        "        if l1.data < l2.data:\n",
        "            current.next = l1\n",
        "            l1 = l1.next\n",
        "        else:\n",
        "            current.next = l2\n",
        "            l2 = l2.next\n",
        "        current = current.next\n",
        "    current.next = l1 if l1 else l2\n",
        "    return dummy.next\n",
        "\n",
        "# Example\n",
        "list1 = Node(1)\n",
        "list1.next = Node(3)\n",
        "list1.next.next = Node(5)\n",
        "list2 = Node(2)\n",
        "list2.next = Node(4)\n",
        "list2.next.next = Node(6)\n",
        "print(\"Merged List:\")\n",
        "print_list(merge_sorted_lists(list1, list2))\n"
      ],
      "metadata": {
        "id": "NB0GJOTkuUn0",
        "outputId": "6886c618-4054-46cb-abec-733ebd4cf3ed",
        "colab": {
          "base_uri": "https://localhost:8080/"
        }
      },
      "execution_count": 9,
      "outputs": [
        {
          "output_type": "stream",
          "name": "stdout",
          "text": [
            "Merged List:\n",
            "1 -> 2 -> 3 -> 4 -> 5 -> 6 -> None\n"
          ]
        }
      ]
    },
    {
      "cell_type": "markdown",
      "source": [
        "5. Write a function to remove nth node from the end in a linked list\n",
        "1->2->3->4->5->6, removing 2nd node from end will return 1->2->3->4->6"
      ],
      "metadata": {
        "id": "XpXHzWdgu-MB"
      }
    },
    {
      "cell_type": "code",
      "source": [
        "def remove_nth_from_end(head, n):\n",
        "    dummy = Node(0)\n",
        "    dummy.next = head\n",
        "    fast = slow = dummy\n",
        "    for _ in range(n + 1):\n",
        "        fast = fast.next\n",
        "    while fast:\n",
        "        fast = fast.next\n",
        "        slow = slow.next\n",
        "    slow.next = slow.next.next\n",
        "    return dummy.next\n",
        "\n",
        "# Example\n",
        "head = Node(1)\n",
        "head.next = Node(2)\n",
        "head.next.next = Node(3)\n",
        "head.next.next.next = Node(4)\n",
        "head.next.next.next.next = Node(5)\n",
        "print(\"Original List:\")\n",
        "print_list(head)\n",
        "head = remove_nth_from_end(head, 2)\n",
        "print(\"After Removing 2nd Node from End:\")\n",
        "print_list(head)\n"
      ],
      "metadata": {
        "id": "AcnODzMXufFk",
        "outputId": "a81668a0-9c25-41c1-e9aa-6f941b0f8477",
        "colab": {
          "base_uri": "https://localhost:8080/"
        }
      },
      "execution_count": 10,
      "outputs": [
        {
          "output_type": "stream",
          "name": "stdout",
          "text": [
            "Original List:\n",
            "1 -> 2 -> 3 -> 4 -> 5 -> None\n",
            "After Removing 2nd Node from End:\n",
            "1 -> 2 -> 3 -> 5 -> None\n"
          ]
        }
      ]
    },
    {
      "cell_type": "markdown",
      "source": [
        "6. Remove Duplicates from a Sorted Linked List\n",
        "1->2->3->3->4->4->4->5  should be changed to 1->2->3->4->5"
      ],
      "metadata": {
        "id": "n9y67x7FvQ7B"
      }
    },
    {
      "cell_type": "code",
      "source": [
        "def remove_duplicates(head):\n",
        "    current = head\n",
        "    while current and current.next:\n",
        "        if current.data == current.next.data:\n",
        "            current.next = current.next.next\n",
        "        else:\n",
        "            current = current.next\n",
        "    return head\n",
        "\n",
        "# Example\n",
        "head = Node(1)\n",
        "head.next = Node(2)\n",
        "head.next.next = Node(2)\n",
        "head.next.next.next = Node(3)\n",
        "print(\"Original List:\")\n",
        "print_list(head)\n",
        "head = remove_duplicates(head)\n",
        "print(\"After Removing Duplicates:\")\n",
        "print_list(head)\n"
      ],
      "metadata": {
        "id": "2kKdp1PCvHe4",
        "outputId": "647d5f49-22c0-434f-ee7c-cc814a0f87ea",
        "colab": {
          "base_uri": "https://localhost:8080/"
        }
      },
      "execution_count": 11,
      "outputs": [
        {
          "output_type": "stream",
          "name": "stdout",
          "text": [
            "Original List:\n",
            "1 -> 2 -> 2 -> 3 -> None\n",
            "After Removing Duplicates:\n",
            "1 -> 2 -> 3 -> None\n"
          ]
        }
      ]
    },
    {
      "cell_type": "markdown",
      "source": [
        "7. Find the Intersection of Two Linked Lists\n",
        "1->2->3->4->8->6->9  5->1->6->7  , intersection 1->6"
      ],
      "metadata": {
        "id": "TxtNR6PmvdoK"
      }
    },
    {
      "cell_type": "code",
      "source": [
        "def get_intersection_node(headA, headB):\n",
        "    if not headA or not headB:\n",
        "        return None\n",
        "    a, b = headA, headB\n",
        "    while a != b:\n",
        "        a = a.next if a else headB\n",
        "        b = b.next if b else headA\n",
        "    return a\n",
        "\n",
        "# Example\n",
        "list1 = Node(1)\n",
        "list1.next = Node(2)\n",
        "list1.next.next = Node(3)\n",
        "list2 = Node(4)\n",
        "list2.next = list1.next.next\n",
        "intersection = get_intersection_node(list1, list2)\n",
        "print(f\"Intersection Node: {intersection.data if intersection else 'No Intersection'}\")\n"
      ],
      "metadata": {
        "id": "IxgdlmXQvYBL",
        "outputId": "888d60a2-70f6-4c7c-a99f-75f3b7227d3b",
        "colab": {
          "base_uri": "https://localhost:8080/"
        }
      },
      "execution_count": 13,
      "outputs": [
        {
          "output_type": "stream",
          "name": "stdout",
          "text": [
            "Intersection Node: 3\n"
          ]
        }
      ]
    },
    {
      "cell_type": "markdown",
      "source": [
        "8. Rotate a linked list by k positions to the right\n",
        "1->2->3->4->8->6->9 , after rotating for 2 times becomes , 3->4->8->6->9->1->2"
      ],
      "metadata": {
        "id": "pNc_vjzhw7Nd"
      }
    },
    {
      "cell_type": "code",
      "source": [
        "class Node:\n",
        "    def __init__(self, data):\n",
        "        self.data = data\n",
        "        self.next = None\n",
        "\n",
        "def rotate_right(head, k):\n",
        "    if not head or k == 0:\n",
        "        return head\n",
        "\n",
        "\n",
        "    length = 1\n",
        "    tail = head\n",
        "    while tail.next:\n",
        "        tail = tail.next\n",
        "        length += 1\n",
        "\n",
        "    tail.next = head\n",
        "    k %= length\n",
        "    steps_to_new_head = length - k\n",
        "\n",
        "\n",
        "    new_tail = tail\n",
        "    while steps_to_new_head > 0:\n",
        "        new_tail = new_tail.next\n",
        "        steps_to_new_head -= 1\n",
        "\n",
        "    new_head = new_tail.next\n",
        "    new_tail.next = None\n",
        "    return new_head\n",
        "\n",
        "def print_list(head):\n",
        "    current = head\n",
        "    while current:\n",
        "        print(current.data, end=\" -> \")\n",
        "        current = current.next\n",
        "    print(\"None\")\n",
        "\n",
        "# Example\n",
        "head = Node(1)\n",
        "head.next = Node(2)\n",
        "head.next.next = Node(3)\n",
        "head.next.next.next = Node(4)\n",
        "head.next.next.next.next = Node(5)\n",
        "\n",
        "print(\"Original List:\")\n",
        "print_list(head)\n",
        "rotated_head = rotate_right(head, 2)\n",
        "print(\"After Rotating by 2 Positions:\")\n",
        "print_list(rotated_head)\n"
      ],
      "metadata": {
        "id": "W0DEvn7pvjBI",
        "outputId": "343a8d8d-3ad0-4d5d-b0ac-890413bb59d2",
        "colab": {
          "base_uri": "https://localhost:8080/"
        }
      },
      "execution_count": 14,
      "outputs": [
        {
          "output_type": "stream",
          "name": "stdout",
          "text": [
            "Original List:\n",
            "1 -> 2 -> 3 -> 4 -> 5 -> None\n",
            "After Rotating by 2 Positions:\n",
            "4 -> 5 -> 1 -> 2 -> 3 -> None\n"
          ]
        }
      ]
    },
    {
      "cell_type": "markdown",
      "source": [
        "9. Add Two Numbers Represented by Linked Lists\n",
        "Given two non-empty linked lists representing two non-negative integers, where the digits are stored in\n",
        "reverse order, add the two numbers and return it as a linked list."
      ],
      "metadata": {
        "id": "GY8y5ZHoxRFW"
      }
    },
    {
      "cell_type": "code",
      "source": [
        "def add_two_numbers(l1, l2):\n",
        "    dummy = Node(0)\n",
        "    current = dummy\n",
        "    carry = 0\n",
        "\n",
        "    while l1 or l2 or carry:\n",
        "        total = carry\n",
        "        if l1:\n",
        "            total += l1.data\n",
        "            l1 = l1.next\n",
        "        if l2:\n",
        "            total += l2.data\n",
        "            l2 = l2.next\n",
        "\n",
        "        carry = total // 10\n",
        "        current.next = Node(total % 10)\n",
        "        current = current.next\n",
        "\n",
        "    return dummy.next\n",
        "\n",
        "# Example\n",
        "l1 = Node(2)\n",
        "l1.next = Node(4)\n",
        "l1.next.next = Node(3)\n",
        "\n",
        "l2 = Node(5)\n",
        "l2.next = Node(6)\n",
        "l2.next.next = Node(4)\n",
        "\n",
        "print(\"List 1:\")\n",
        "print_list(l1)\n",
        "print(\"List 2:\")\n",
        "print_list(l2)\n",
        "\n",
        "result = add_two_numbers(l1, l2)\n",
        "print(\"Resultant List:\")\n",
        "print_list(result)\n"
      ],
      "metadata": {
        "id": "fZSjZebvxLYH",
        "outputId": "a8234887-4f71-4c54-d089-da524b6523c9",
        "colab": {
          "base_uri": "https://localhost:8080/"
        }
      },
      "execution_count": 15,
      "outputs": [
        {
          "output_type": "stream",
          "name": "stdout",
          "text": [
            "List 1:\n",
            "2 -> 4 -> 3 -> None\n",
            "List 2:\n",
            "5 -> 6 -> 4 -> None\n",
            "Resultant List:\n",
            "7 -> 0 -> 8 -> None\n"
          ]
        }
      ]
    },
    {
      "cell_type": "markdown",
      "source": [
        "10. Clone a Linked List with next and Random Pointer"
      ],
      "metadata": {
        "id": "hGpnWKqpxigh"
      }
    },
    {
      "cell_type": "code",
      "source": [
        "class NodeWithRandom:\n",
        "    def __init__(self, data):\n",
        "        self.data = data\n",
        "        self.next = None\n",
        "        self.random = None\n",
        "\n",
        "def clone_linked_list(head):\n",
        "    if not head:\n",
        "        return None\n",
        "\n",
        "\n",
        "    current = head\n",
        "    while current:\n",
        "        new_node = NodeWithRandom(current.data)\n",
        "        new_node.next = current.next\n",
        "        current.next = new_node\n",
        "        current = new_node.next\n",
        "\n",
        "    current = head\n",
        "    while current:\n",
        "        if current.random:\n",
        "            current.next.random = current.random.next\n",
        "        current = current.next.next\n",
        "\n",
        "\n",
        "    original = head\n",
        "    clone = head.next\n",
        "    clone_head = clone\n",
        "\n",
        "    while original:\n",
        "        original.next = original.next.next\n",
        "        if clone.next:\n",
        "            clone.next = clone.next.next\n",
        "        original = original.next\n",
        "        clone = clone.next\n",
        "\n",
        "    return clone_head\n",
        "\n",
        "# Example\n",
        "original = NodeWithRandom(1)\n",
        "original.next = NodeWithRandom(2)\n",
        "original.next.next = NodeWithRandom(3)\n",
        "original.random = original.next.next\n",
        "original.next.random = original\n",
        "\n",
        "print(\"Original List:\")\n",
        "current = original\n",
        "while current:\n",
        "    random_data = current.random.data if current.random else \"None\"\n",
        "    print(f\"Node: {current.data}, Random: {random_data}\")\n",
        "    current = current.next\n",
        "\n",
        "cloned = clone_linked_list(original)\n",
        "print(\"\\nCloned List:\")\n",
        "current = cloned\n",
        "while current:\n",
        "    random_data = current.random.data if current.random else \"None\"\n",
        "    print(f\"Node: {current.data}, Random: {random_data}\")\n",
        "    current = current.next\n"
      ],
      "metadata": {
        "id": "X8cuZJiXxZGJ",
        "outputId": "49861dd9-4e30-4658-8e74-fe4b78786d5e",
        "colab": {
          "base_uri": "https://localhost:8080/"
        }
      },
      "execution_count": 16,
      "outputs": [
        {
          "output_type": "stream",
          "name": "stdout",
          "text": [
            "Original List:\n",
            "Node: 1, Random: 3\n",
            "Node: 2, Random: 1\n",
            "Node: 3, Random: None\n",
            "\n",
            "Cloned List:\n",
            "Node: 1, Random: 3\n",
            "Node: 2, Random: 1\n",
            "Node: 3, Random: None\n"
          ]
        }
      ]
    },
    {
      "cell_type": "code",
      "source": [],
      "metadata": {
        "id": "Ym_C_oOfxt4M"
      },
      "execution_count": null,
      "outputs": []
    }
  ],
  "metadata": {
    "colab": {
      "name": "Welcome To Colab",
      "provenance": []
    },
    "kernelspec": {
      "display_name": "Python 3",
      "name": "python3"
    }
  },
  "nbformat": 4,
  "nbformat_minor": 0
}